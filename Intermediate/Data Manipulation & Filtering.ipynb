{
 "cells": [
  {
   "cell_type": "markdown",
   "id": "760ad64f",
   "metadata": {},
   "source": [
    "<h1 align=\"center\" style=\"background-color:#001f3f;\n",
    "           color:white;\n",
    "           border-radius:8px;\n",
    "           font-family:'Times New Roman', Times, serif;\n",
    "           padding:20px;\n",
    "           display:inline-block;\">\n",
    "Data Manipulation\n",
    "</h1>\n",
    "\n",
    "<hr>\n",
    "\n",
    "<p align=\"center\"><b>Author:</b> Muhammad Usman</p>\n",
    "<p align=\"center\"><b>Dated:</b> 6/Oct/2025</p>\n",
    "\n",
    "`Data Manipulation` in NumPy means `reshaping`, `combining`, `splitting`, and `transforming` *arrays* to make them suitable for **analysis, visualization, and model input**\\.\n",
    "\n",
    "It’s a crucial step in ***Data Engineering***, Machine Learning preprocessing, and Scientific Computing."
   ]
  },
  {
   "cell_type": "markdown",
   "id": "7c3b55ca",
   "metadata": {},
   "source": [
    "> #### Lets have a look on Data Manipulation Functions:"
   ]
  },
  {
   "cell_type": "markdown",
   "id": "4e26fbce",
   "metadata": {},
   "source": [
    "* ## **Shape and Reshape Operations**"
   ]
  },
  {
   "cell_type": "markdown",
   "id": "ff6f4583",
   "metadata": {},
   "source": [
    "let creates an array and apply functions on it"
   ]
  },
  {
   "cell_type": "code",
   "execution_count": 74,
   "id": "4d85621c",
   "metadata": {},
   "outputs": [],
   "source": [
    "# Import Library first\n",
    "import numpy as np"
   ]
  },
  {
   "cell_type": "code",
   "execution_count": 75,
   "id": "6342ad0e",
   "metadata": {},
   "outputs": [
    {
     "name": "stdout",
     "output_type": "stream",
     "text": [
      "[[50.  55.  66.  77.  33.  22. ]\n",
      " [ 4.   5.   6.   5.5  4.4  3.3]]\n",
      "Dimension: 2\n"
     ]
    }
   ],
   "source": [
    "arr1 = np.array(\n",
    "\n",
    "    [\n",
    "        [50,55,66,77,33,22],\n",
    "        [4,5,6,5.5,4.4,3.3]\n",
    "    ]\n",
    ")\n",
    "print(arr1)\n",
    "print(f\"Dimension: {arr1.ndim}\")"
   ]
  },
  {
   "cell_type": "markdown",
   "id": "79702d1a",
   "metadata": {},
   "source": [
    "### **1.Change Structure on an array**"
   ]
  },
  {
   "cell_type": "code",
   "execution_count": 76,
   "metadata": {},
   "outputs": [
    {
     "name": "stdout",
     "output_type": "stream",
     "text": [
      "The shape of an array is: (2, 6)\n",
      "[[50.  55.  66.  77. ]\n",
      " [33.  22.   4.   5. ]\n",
      " [ 6.   5.5  4.4  3.3]]\n"
     ]
    }
   ],
   "source": [
    "# checking shape of it\n",
    "\n",
    "print(f\"The shape of an array is: {arr1.shape}\")\n",
    "\n",
    "# if we want to change the shape of an array\n",
    "print(arr1.reshape(3,4))"
   ]
  },
  {
   "cell_type": "markdown",
   "id": "cbec43e0",
   "metadata": {},
   "source": [
    "`.reshape()` is used to change the shape (rows × columns) of an array without changing its data.\n",
    "- Shortcut with -1"
   ]
  },
  {
   "cell_type": "code",
   "execution_count": 77,
   "id": "c52578d4",
   "metadata": {},
   "outputs": [
    {
     "data": {
      "text/plain": [
       "array([[50. , 55. , 66. ],\n",
       "       [77. , 33. , 22. ],\n",
       "       [ 4. ,  5. ,  6. ],\n",
       "       [ 5.5,  4.4,  3.3]])"
      ]
     },
     "execution_count": 77,
     "metadata": {},
     "output_type": "execute_result"
    }
   ],
   "source": [
    "# If you don’t want to calculate one of the dimensions manually, use -1:\n",
    "\n",
    "arr1.reshape(4, -1)"
   ]
  },
  {
   "cell_type": "markdown",
   "id": "2815e484",
   "metadata": {},
   "source": [
    "### **2.Convert 2D Array into 1D Array**\n",
    "convert multi-dimensional arrays into 1D, but they do not change the shape of the original (arr2) array"
   ]
  },
  {
   "cell_type": "code",
   "execution_count": 69,
   "id": "3090c212",
   "metadata": {},
   "outputs": [
    {
     "name": "stdout",
     "output_type": "stream",
     "text": [
      "Convert into 1D through Ravel: [50.  55.  66.  77.  33.  22.   4.   5.   6.   5.5  4.4  3.3]\n",
      "Convert into 1D through Flatten: [50.  55.  66.  77.  33.  22.   4.   5.   6.   5.5  4.4  3.3]\n",
      "Dimension: 2\n",
      "\n",
      "[50.  55.  66.  77.  33.  22.   4.   5.   6.   5.5  4.4  3.3]\n",
      "Dimension: 1\n"
     ]
    }
   ],
   "source": [
    "arr2 = arr1.copy()               # copy arr1 to arr2 to make arr1 original\n",
    "\n",
    "print(f\"Convert into 1D through Ravel: {arr2.ravel()}\")\n",
    "print(f\"Convert into 1D through Flatten: {arr2.flatten()}\")\n",
    "\n",
    "print(f\"Dimension: {arr2.ndim}\")\n",
    "print(\"\")\n",
    "\n",
    "# Actual way to convert dimension (we have to assign it)\n",
    "\n",
    "arr2 = arr2.ravel()    \n",
    "print(arr2)\n",
    "print(f\"Dimension: {arr2.ndim}\")"
   ]
  },
  {
   "cell_type": "markdown",
   "id": "7e6d4a50",
   "metadata": {},
   "source": [
    "### **3.Resize and Transpose**"
   ]
  },
  {
   "cell_type": "code",
   "execution_count": 70,
   "id": "165a2d4d",
   "metadata": {},
   "outputs": [
    {
     "data": {
      "text/plain": [
       "array([[50. , 55. , 66. , 77. , 33. , 22. ],\n",
       "       [ 4. ,  5. ,  6. ,  5.5,  4.4,  3.3]])"
      ]
     },
     "execution_count": 70,
     "metadata": {},
     "output_type": "execute_result"
    }
   ],
   "source": [
    "arr3 = arr1.copy()\n",
    "arr3"
   ]
  },
  {
   "cell_type": "code",
   "execution_count": 71,
   "id": "9b113bc0",
   "metadata": {},
   "outputs": [
    {
     "data": {
      "text/plain": [
       "array([[50. , 55. ],\n",
       "       [66. , 77. ],\n",
       "       [33. , 22. ],\n",
       "       [ 4. ,  5. ],\n",
       "       [ 6. ,  5.5],\n",
       "       [ 4.4,  3.3]])"
      ]
     },
     "execution_count": 71,
     "metadata": {},
     "output_type": "execute_result"
    }
   ],
   "source": [
    "# changes its structure permanently\n",
    "\n",
    "arr3.resize((6,2))\n",
    "arr3"
   ]
  },
  {
   "cell_type": "markdown",
   "id": "fcdb77b3",
   "metadata": {},
   "source": [
    "**Note: The size should be same ie in array 1 the size is (2,6 == 2x6 = 12), so reshaping arr3 should have exact size of 12**"
   ]
  },
  {
   "cell_type": "code",
   "execution_count": 72,
   "id": "bc3b82cc",
   "metadata": {},
   "outputs": [
    {
     "data": {
      "text/plain": [
       "array([[50. , 66. , 33. ,  4. ,  6. ,  4.4],\n",
       "       [55. , 77. , 22. ,  5. ,  5.5,  3.3]])"
      ]
     },
     "execution_count": 72,
     "metadata": {},
     "output_type": "execute_result"
    }
   ],
   "source": [
    "arr3.T        # -----> it will flips rows and columns \n",
    "\n",
    "# it is widly used in img processing"
   ]
  },
  {
   "cell_type": "markdown",
   "id": "3330440b",
   "metadata": {},
   "source": [
    "### **4.swap or reorder columns**"
   ]
  },
  {
   "cell_type": "code",
   "execution_count": 73,
   "id": "5e91e3dd",
   "metadata": {},
   "outputs": [
    {
     "name": "stdout",
     "output_type": "stream",
     "text": [
      "Original Array:\n",
      "[[50.  55.  66.  77.  33.  22. ]\n",
      " [ 4.   5.   6.   5.5  4.4  3.3]]\n",
      "\n",
      "Swapped Columns (Col 1 , Col 3):\n",
      "[[66.  55.  50.  77.  33.  22. ]\n",
      " [ 6.   5.   4.   5.5  4.4  3.3]]\n"
     ]
    }
   ],
   "source": [
    "print(\"Original Array:\")\n",
    "print(arr1)\n",
    "\n",
    "# Swap column 0 and column 2\n",
    "swapped = arr1[:, [2, 1, 0, 3,4,5]]     # new column order\n",
    "\n",
    "print(\"\\nSwapped Columns (Col 1 , Col 3):\")\n",
    "print(swapped)"
   ]
  },
  {
   "cell_type": "markdown",
   "id": "2f8eff89",
   "metadata": {},
   "source": [
    "* ## **Stacking and Combining Arrays**"
   ]
  },
  {
   "cell_type": "markdown",
   "id": "4d75e743",
   "metadata": {},
   "source": [
    "### **1.Horizontal Stack**\n",
    "\n",
    "Joins arrays side by side (column-wise)."
   ]
  },
  {
   "cell_type": "code",
   "execution_count": 85,
   "id": "b89eac6b",
   "metadata": {},
   "outputs": [
    {
     "name": "stdout",
     "output_type": "stream",
     "text": [
      "[[1 2 3 4 5 6]]\n"
     ]
    }
   ],
   "source": [
    "# create an array\n",
    "\n",
    "aa = np.array([[1,2,3]])\n",
    "bb = np.array([[4,5,6]])\n",
    "\n",
    "print(np.hstack((aa,bb)))\n"
   ]
  },
  {
   "cell_type": "markdown",
   "id": "98c71709",
   "metadata": {},
   "source": [
    "### **2.Splitting the Array**\n",
    "It is very usefull in dividing the data into training, validation, and testing sets in ML."
   ]
  },
  {
   "cell_type": "code",
   "execution_count": 89,
   "id": "f835c284",
   "metadata": {},
   "outputs": [
    {
     "name": "stdout",
     "output_type": "stream",
     "text": [
      "Original Array: [0 1 2 3 4 5 6 7 8 9]\n",
      "[array([0, 1, 2, 3, 4]), array([5, 6, 7, 8, 9])]\n"
     ]
    }
   ],
   "source": [
    "array = np.arange(10)\n",
    "print(\"Original Array:\", array)\n",
    "\n",
    "result = np.split(array, 2)            # split into 2 equal parts\n",
    "print(result)\n"
   ]
  },
  {
   "cell_type": "code",
   "execution_count": 92,
   "id": "82f45d8f",
   "metadata": {},
   "outputs": [
    {
     "name": "stdout",
     "output_type": "stream",
     "text": [
      "[array([0, 1, 2]), array([3, 4, 5, 6]), array([7, 8, 9])]\n"
     ]
    }
   ],
   "source": [
    "# you can also split by indexing\n",
    "\n",
    "print(np.split(array, [3, 7]))"
   ]
  },
  {
   "cell_type": "markdown",
   "id": "10bff538",
   "metadata": {},
   "source": [
    "**Official Documentation Reference**\n",
    "\n",
    "For more stacking and array manipulation functions, refer to the official NumPy documentation:\n",
    "\n",
    "🔗 [NumPy vstack() – Official Docs](https://numpy.org/doc/stable/reference/generated/numpy.vstack.html)"
   ]
  },
  {
   "cell_type": "markdown",
   "id": "af163fdf",
   "metadata": {},
   "source": [
    "* ## **Adding, Removing, and Repeating Elements of an array**"
   ]
  },
  {
   "cell_type": "markdown",
   "id": "23b3108d",
   "metadata": {},
   "source": [
    "**Key Functions:**\n",
    "append,\t\n",
    "insert,\t\n",
    "delete,\n",
    "tile.. etc\t"
   ]
  },
  {
   "cell_type": "code",
   "execution_count": 95,
   "id": "98a55b78",
   "metadata": {},
   "outputs": [
    {
     "name": "stdout",
     "output_type": "stream",
     "text": [
      "[[50.  55.  66.  77.  33.  22. ]\n",
      " [ 4.   5.   6.   5.5  4.4  3.3]]\n"
     ]
    }
   ],
   "source": [
    "arr4 =arr1.copy()\n",
    "print(arr4)"
   ]
  },
  {
   "cell_type": "code",
   "execution_count": 100,
   "id": "dd7d047c",
   "metadata": {},
   "outputs": [
    {
     "name": "stdout",
     "output_type": "stream",
     "text": [
      "[50.  55.  66.  77.  33.  22.   4.   5.   6.   5.5  4.4  3.3  4.   5. ]\n",
      "\n",
      "[50.  99.  55.  66.  77.  33.  22.   4.   5.   6.   5.5  4.4  3.3]\n",
      "\n",
      "[50.  55.  66.  77.  33.   4.   5.   6.   5.5  4.4  3.3]\n",
      "\n",
      "[ 3.3  4.   4.4  5.   5.5  6.  22.  33.  50.  55.  66.  77. ]\n"
     ]
    }
   ],
   "source": [
    "print(np.append(arr4, [4,5]))\n",
    "print(\"\")\n",
    "\n",
    "print(np.insert(arr4, 1, 99))\n",
    "print(\"\")\n",
    "\n",
    "print(np.delete(arr4, 5))\n",
    "print(\"\")\n",
    "\n",
    "print(np.unique(arr4))\n"
   ]
  },
  {
   "cell_type": "markdown",
   "id": "2dfd64b6",
   "metadata": {},
   "source": [
    "* ## **BroadCasting**\n",
    "`Broadcasting` lets NumPy apply operations between arrays of `different shapes` `automatically` like: adding, subtracting, or multiplying a small array across a big one, without writing loops"
   ]
  },
  {
   "cell_type": "code",
   "execution_count": 101,
   "id": "534b4678",
   "metadata": {},
   "outputs": [
    {
     "data": {
      "text/plain": [
       "array([[100, 120, 130],\n",
       "       [ 90, 110, 115],\n",
       "       [105, 125, 140],\n",
       "       [ 95, 100, 120]])"
      ]
     },
     "execution_count": 101,
     "metadata": {},
     "output_type": "execute_result"
    }
   ],
   "source": [
    "# creating an array\n",
    "\n",
    "sales = np.array([\n",
    "    [100, 120, 130],\n",
    "    [90, 110, 115],\n",
    "    [105, 125, 140],\n",
    "    [95, 100, 120]\n",
    "])\n",
    "\n",
    "# here, row = month \n",
    "#     column = Products\n",
    "sales"
   ]
  },
  {
   "cell_type": "markdown",
   "id": "71052d25",
   "metadata": {},
   "source": [
    "**moving deeper**\n",
    "<br>\n",
    "Can we name column and rows?\n",
    "\n",
    "the answer is no; NumPy focuses on speed and numerical computation, not metadata (like column/row names)"
   ]
  },
  {
   "cell_type": "code",
   "execution_count": 107,
   "id": "07d6c048",
   "metadata": {},
   "outputs": [
    {
     "name": "stdout",
     "output_type": "stream",
     "text": [
      "Original Sales Data:\n",
      "\n",
      "     Prod_A  Prod_B  Prod_C\n",
      "Jan     100     120     130\n",
      "Feb      90     110     115\n",
      "Mar     105     125     140\n",
      "Apr      95     100     120\n",
      "\n",
      " Discounts per Product: [ 5 10 15]\n"
     ]
    }
   ],
   "source": [
    "# Recommended way is Create DataFrame\n",
    "\n",
    "import pandas as pd\n",
    "\n",
    "# Discounts per product\n",
    "discount = np.array([5, 10, 15])\n",
    "\n",
    "df = pd.DataFrame(sales,\n",
    "\n",
    "    columns=['Prod_A', 'Prod_B', 'Prod_C'],\n",
    "    index=['Jan', 'Feb', 'Mar', 'Apr']\n",
    ")\n",
    "\n",
    "print(\"Original Sales Data:\\n\")\n",
    "print(df)\n",
    "\n",
    "print(\"\\n Discounts per Product:\", discount)\n"
   ]
  },
  {
   "cell_type": "markdown",
   "id": "4c44113d",
   "metadata": {},
   "source": [
    "now apply discount in sales data"
   ]
  },
  {
   "cell_type": "code",
   "execution_count": 108,
   "id": "6398aba9",
   "metadata": {},
   "outputs": [
    {
     "name": "stdout",
     "output_type": "stream",
     "text": [
      "\n",
      " Manual Discount Applied (No Broadcasting):\n",
      "\n",
      "     Prod_A  Prod_B  Prod_C\n",
      "Jan      95     110     115\n",
      "Feb      85     100     100\n",
      "Mar     100     115     125\n",
      "Apr      90      90     105\n"
     ]
    }
   ],
   "source": [
    "# Create an empty DataFrame to store results\n",
    "manual_df = df.copy()\n",
    "\n",
    "# Manual subtraction (row by row, column by column)\n",
    "for i in range(len(df)):\n",
    "    for j in range(len(df.columns)):\n",
    "        manual_df.iat[i, j] = df.iat[i, j] - discount[j]\n",
    "\n",
    "print(\"\\n Manual Discount Applied (No Broadcasting):\\n\")\n",
    "print(manual_df)\n"
   ]
  },
  {
   "cell_type": "code",
   "execution_count": 109,
   "id": "70c27547",
   "metadata": {},
   "outputs": [
    {
     "name": "stdout",
     "output_type": "stream",
     "text": [
      "\n",
      " Automatic Broadcasting Result:\n",
      "\n",
      "     Prod_A  Prod_B  Prod_C\n",
      "Jan      95     110     115\n",
      "Feb      85     100     100\n",
      "Mar     100     115     125\n",
      "Apr      90      90     105\n"
     ]
    }
   ],
   "source": [
    "# Automatic broadcasting using NumPy logic\n",
    "broadcasted_df = df - discount\n",
    "\n",
    "print(\"\\n Automatic Broadcasting Result:\\n\")\n",
    "print(broadcasted_df)\n"
   ]
  },
  {
   "cell_type": "markdown",
   "id": "2e16d319",
   "metadata": {},
   "source": [
    "- ## **Sorting and Searching in Data Manipulation**\n",
    "\n",
    "In data manipulation, `sorting and searching` are essential when you need to `organize data` or `find specific elements` within arrays.\n",
    "\n",
    "- If you have to search any value, sort any dataset, or find the position of elements, you can use NumPy’s built-in functions like:\n",
    "\n",
    "np.sort() → Sorts elements in ascending or descending order\n",
    "\n",
    "np.argsort() → Returns the indices that would sort an array\n",
    "\n",
    "np.argmax() / np.argmin() → Finds the index of maximum/minimum value\n",
    "\n",
    "np.searchsorted() → Finds the insertion point for a value in a sorted array\n",
    "\n",
    "np.unique() → Returns all unique values in an array\n",
    "\n",
    "np.where() → Returns positions or elements matching a condition\n",
    "\n",
    "These functions help in data cleaning, analysis, and preprocessing, making them a vital part of data manipulation workflows.\n",
    "\n",
    "**📘 Official Documentation Reference**\n",
    "\n",
    "For detailed explanation, parameters, and examples, refer to the official NumPy documentation:\n",
    "\n",
    "🔗 [NumPy Sorting – Official Docs](https://numpy.org/doc/stable/reference/routines.sort.html)"
   ]
  }
 ],
 "metadata": {
  "kernelspec": {
   "display_name": "Python 3",
   "language": "python",
   "name": "python3"
  },
  "language_info": {
   "codemirror_mode": {
    "name": "ipython",
    "version": 3
   },
   "file_extension": ".py",
   "mimetype": "text/x-python",
   "name": "python",
   "nbconvert_exporter": "python",
   "pygments_lexer": "ipython3",
   "version": "3.12.0"
  }
 },
 "nbformat": 4,
 "nbformat_minor": 5
}
