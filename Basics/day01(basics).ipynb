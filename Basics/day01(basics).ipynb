{
 "cells": [
  {
   "cell_type": "markdown",
   "id": "1bb32457",
   "metadata": {},
   "source": [
    "<h1 align=\"center\" style=\"background-color:#001f3f;\n",
    "           color:white;\n",
    "           border-radius:8px;\n",
    "           font-family:'Times New Roman', Times, serif;\n",
    "           padding:20px;\n",
    "           display:inline-block;\">\n",
    "What is an Array?\n",
    "</h1>\n",
    "\n",
    "<hr>\n",
    "\n",
    "<p align=\"center\"><b>Author:</b> Muhammad Usman</p>\n",
    "<p align=\"center\"><b>Dated:</b> 4/Oct/2025</p>\n",
    "\n",
    "An `array` is simply a way of storing a `collection of data items` of the `same type` in a single variable, instead of using multiple variables.\n",
    "\n",
    "**Arrays are very useful in programming because they:**\n",
    "\n",
    "- Allow storing multiple values in a single variable.\n",
    "\n",
    "- Support indexing and slicing, meaning you can directly access, update, or iterate over elements.\n",
    "\n",
    "- Provide a base for numerical and matrix operations in data science, simulations, and machine learning.\n",
    "\n"
   ]
  },
  {
   "cell_type": "markdown",
   "id": "462f93ea",
   "metadata": {},
   "source": [
    "- **Example in Python using a list (which works like an array):**\n",
    "\n",
    "marks = [85, 90, 78, 92]\\\n",
    "print(marks[0])  "
   ]
  },
  {
   "cell_type": "markdown",
   "id": "6c613b5a",
   "metadata": {},
   "source": [
    "`Python` by default doesn’t have `arrays` like C or Java. Instead, it uses `lists`, which behave like flexible arrays.\n",
    "\n",
    "Lists can store elements of `different data types`, such as integers, floats, and strings, making them `slower` and `memory-hungry`.\n",
    "\n",
    "*When we apply operations, Python loops run through each element, which is slower compared to low-level C operations.*"
   ]
  },
  {
   "cell_type": "code",
   "execution_count": null,
   "id": "752c6283",
   "metadata": {},
   "outputs": [
    {
     "name": "stdout",
     "output_type": "stream",
     "text": [
      "[2, 4, 6, 8, 10]\n"
     ]
    }
   ],
   "source": [
    "lst = [1, 2, 3, 4, 5]\n",
    "doubled = [x*2 for x in lst]\n",
    "print(doubled)   "
   ]
  },
  {
   "cell_type": "markdown",
   "id": "674bd6c0",
   "metadata": {},
   "source": [
    "<h1 align=\"center\" style=\"background-color:#001f3f;\n",
    "           color:white;\n",
    "           border-radius:8px;\n",
    "           font-family:'Times New Roman', Times, serif;\n",
    "           padding:20px;\n",
    "           display:inline-block;\">\n",
    "Introduction to NumPy Arrays\n",
    "</h1>\n",
    "\n",
    "NumPy, short for `Numerical Python`, is the most important `Python library` for `numerical and scientific computing`.\n",
    "\n",
    "It provides a high-performance `n-dimensional array` (means: column and rows), object called `ndarray`, along with a collection of mathematical functions to operate on these arrays efficiently.\n",
    "\n",
    "<br>\n",
    "\n",
    "Unlike Python lists, NumPy arrays are homogeneous, meaning all elements must be of the `same data type`, which makes `computations faster` and `memory-efficient`.\n",
    "\n",
    "*With NumPy, you don’t need to write explicit loops for element-wise operations*"
   ]
  },
  {
   "cell_type": "code",
   "execution_count": 2,
   "id": "4f0f2ee8",
   "metadata": {},
   "outputs": [],
   "source": [
    "import numpy as np"
   ]
  },
  {
   "cell_type": "code",
   "execution_count": 3,
   "id": "c2e9aad3",
   "metadata": {},
   "outputs": [
    {
     "name": "stdout",
     "output_type": "stream",
     "text": [
      "[ 2  4  6  8 10]\n"
     ]
    }
   ],
   "source": [
    "arr = np.array([1, 2, 3, 4, 5])\n",
    "doubled = arr * 2\n",
    "print(doubled)"
   ]
  },
  {
   "cell_type": "markdown",
   "id": "33c79bd7",
   "metadata": {},
   "source": [
    "*Notice how we did not write a loop. The single operation `arr * 2` automatically applies the multiplication to every element, using `vectorization`. This makes NumPy 10x to 100x faster than lists, especially for large data.*"
   ]
  },
  {
   "cell_type": "markdown",
   "id": "3398d26e",
   "metadata": {},
   "source": [
    "> The main `difference` between `Python lists` and `NumPy arrays` is `performance`.\n",
    "<br>\n",
    "Lists are general-purpose containers, while NumPy arrays are optimized for numerical operations with vectorization and better memory usage."
   ]
  },
  {
   "cell_type": "markdown",
   "id": "77144aee",
   "metadata": {},
   "source": [
    "<h1 align=\"center\" style=\"background-color:#001f3f;\n",
    "           color:white;\n",
    "           border-radius:8px;\n",
    "           font-family:'Times New Roman', Times, serif;\n",
    "           padding:20px;\n",
    "           display:inline-block;\">\n",
    "Installation of Numpy\n",
    "</h1>"
   ]
  },
  {
   "cell_type": "markdown",
   "id": "01714fa8",
   "metadata": {},
   "source": [
    "In terminal Write the command\\\n",
    "\\\n",
    "***pip install numpy***\n",
    "\n",
    "then import numpy as np in python cell and do computatioon"
   ]
  },
  {
   "cell_type": "markdown",
   "id": "778b66fa",
   "metadata": {},
   "source": [
    "\n",
    "### **Making 1D array**\n",
    "*Also know as Vector*"
   ]
  },
  {
   "cell_type": "code",
   "execution_count": 4,
   "id": "d63b6f41",
   "metadata": {},
   "outputs": [
    {
     "name": "stdout",
     "output_type": "stream",
     "text": [
      "[1 2 3 4 5]\n",
      "<class 'numpy.ndarray'>\n",
      "Shape of an array: (5,)\n",
      "Dimension: 1\n",
      "Memory Size: 20 bytes\n",
      "1.32 μs ± 102 ns per loop (mean ± std. dev. of 7 runs, 1,000,000 loops each)\n"
     ]
    }
   ],
   "source": [
    "import numpy as np\n",
    "\n",
    "x = np.array(\n",
    "    [1,2,3,4,5] \n",
    ")\n",
    "\n",
    "print(x)\n",
    "\n",
    "print(type(x))\n",
    "print(f\"Shape of an array: {arr.shape}\")          # we only assign 5 rows (5,)\n",
    "print(f\"Dimension: {arr.ndim}\")\n",
    "print(\"Memory Size:\", arr.nbytes, \"bytes\")\n",
    "\n",
    "%timeit arr * 2"
   ]
  },
  {
   "cell_type": "code",
   "execution_count": 5,
   "id": "3ae6b309",
   "metadata": {},
   "outputs": [
    {
     "name": "stdout",
     "output_type": "stream",
     "text": [
      "Python List Memory: 104\n",
      "283 ns ± 21.6 ns per loop (mean ± std. dev. of 7 runs, 1,000,000 loops each)\n"
     ]
    }
   ],
   "source": [
    "import numpy as np\n",
    "import sys\n",
    "y = [1,2,3,4,5]\n",
    "                      # comparision of list and numpy array (memories)\n",
    "print(\"Python List Memory:\", sys.getsizeof(y))  \n",
    "%timeit [i*2 for i in y]"
   ]
  },
  {
   "cell_type": "markdown",
   "id": "142c57d4",
   "metadata": {},
   "source": [
    "### **Making 2D array**\n",
    "*Also know as Matrix*"
   ]
  },
  {
   "cell_type": "code",
   "execution_count": 6,
   "id": "607bbb47",
   "metadata": {},
   "outputs": [
    {
     "name": "stdout",
     "output_type": "stream",
     "text": [
      "[[ 50  60  70]\n",
      " [880  90 100]\n",
      " [ 77  88  99]]\n",
      "\n",
      "Shape:(3, 3)\n",
      "Dimension:2\n",
      "Memory Size: 36 bytes\n"
     ]
    }
   ],
   "source": [
    "# creating 2D array\n",
    "\n",
    "mat = np.array(\n",
    "    [\n",
    "        \n",
    "    [50,60,70],\n",
    "\n",
    "    [880,90,100], \n",
    "    \n",
    "    [77,88,99]\n",
    "    \n",
    "    \n",
    "    ]\n",
    ")\n",
    "\n",
    "print(mat)\n",
    "\n",
    "print(\"\")\n",
    "print(f\"Shape:{mat.shape}\")\n",
    "print(f\"Dimension:{mat.ndim}\")\n",
    "print(\"Memory Size:\", mat.nbytes, \"bytes\")"
   ]
  },
  {
   "cell_type": "code",
   "execution_count": 7,
   "id": "07e48b4b",
   "metadata": {},
   "outputs": [
    {
     "name": "stdout",
     "output_type": "stream",
     "text": [
      "[[[[[1 2 3]]]]]\n",
      "(3, 3)\n",
      "Dimension:5\n"
     ]
    }
   ],
   "source": [
    "mat1 = np.array(\n",
    "    [1,2,3], ndmin = 5)\n",
    "print(mat1)\n",
    "print(mat.shape)\n",
    "print(f\"Dimension:{mat1.ndim}\")"
   ]
  },
  {
   "cell_type": "markdown",
   "id": "07d142b1",
   "metadata": {},
   "source": [
    "### **Making 3D array**\n",
    "*Also know as Tensor, cube like structure*"
   ]
  },
  {
   "cell_type": "code",
   "execution_count": 8,
   "id": "75eff2c2",
   "metadata": {},
   "outputs": [
    {
     "name": "stdout",
     "output_type": "stream",
     "text": [
      "[[[10 20 30]\n",
      "  [40 50 60]]\n",
      "\n",
      " [[11 22 33]\n",
      "  [44 55 66]]]\n",
      " \n",
      "<class 'numpy.ndarray'>\n",
      "Shape:(2, 2, 3)\n",
      "Dimension:3\n",
      "Memory Size: 48 bytes\n"
     ]
    }
   ],
   "source": [
    "mat2 = np.array(\n",
    "    \n",
    " [\n",
    "     [\n",
    "         [10,20,30],\n",
    "         [40,50,60]\n",
    "     ],\n",
    "\n",
    "    [\n",
    "         [11,22,33],\n",
    "         [44,55,66]\n",
    "     ]\n",
    "\n",
    "\n",
    " ]\n",
    "\n",
    ")\n",
    "# Each layer has 2 rows and 3 columns\n",
    "\n",
    "print(mat2)\n",
    "\n",
    "print(\" \")\n",
    "print(type(mat2))\n",
    "print(f\"Shape:{mat2.shape}\")\n",
    "print(f\"Dimension:{mat2.ndim}\")\n",
    "print(\"Memory Size:\", mat2.nbytes, \"bytes\")"
   ]
  },
  {
   "cell_type": "markdown",
   "id": "ec006d77",
   "metadata": {},
   "source": [
    ">In array dimensions must be equal otherwise it will create an object array of python lists (old version only),if u want to make inconsistent matrix u have to define dtype = object, otherwie it will give an error"
   ]
  },
  {
   "cell_type": "code",
   "execution_count": 9,
   "id": "b6c69f71",
   "metadata": {},
   "outputs": [
    {
     "name": "stdout",
     "output_type": "stream",
     "text": [
      "[list([1, 2, 3]) list([4, 5])]\n",
      "dtype: object\n",
      "shape: (2,)\n"
     ]
    }
   ],
   "source": [
    "# Inconsistent rows\n",
    "\n",
    "arr = np.array(\n",
    "\n",
    "    [\n",
    "        [1,2,3], [4,5]\n",
    "        \n",
    "        ], dtype = object\n",
    "    \n",
    "    )\n",
    "\n",
    "print(arr)\n",
    "print(\"dtype:\", arr.dtype)\n",
    "print(\"shape:\", arr.shape)\n",
    "\n"
   ]
  },
  {
   "cell_type": "markdown",
   "id": "8de53cff",
   "metadata": {},
   "source": [
    "***nD Arrays: Can go to any dimensions used in deep learning (tensors).***"
   ]
  },
  {
   "cell_type": "markdown",
   "id": "a740a416",
   "metadata": {},
   "source": [
    "<h1 align=\"center\" style=\"background-color:#001f3f;\n",
    "           color:white;\n",
    "           border-radius:8px;\n",
    "           font-family:'Times New Roman', Times, serif;\n",
    "           padding:20px;\n",
    "           display:inline-block;\">\n",
    "Datatypes in Numpy\n",
    "</h1>\n",
    "\n",
    "NumPy supports many datatypes: `int32`, `int64`, `float32`, `float64`, `complex`, `bool`, etc"
   ]
  },
  {
   "cell_type": "code",
   "execution_count": 10,
   "id": "38fca3c8",
   "metadata": {},
   "outputs": [
    {
     "name": "stdout",
     "output_type": "stream",
     "text": [
      "[[100 200 300]\n",
      " [400 500 600]]\n",
      "\n",
      "int32\n",
      "----------------------------\n",
      "[1.1 2.2 3.3]\n",
      "\n",
      "float64\n",
      "----------------------------\n",
      "[1 0 1 1 0]\n",
      "\n",
      "int32\n",
      "----------------------------\n",
      " \n",
      "[2.+3.j 4.+5.j]\n",
      "\n",
      "complex128\n",
      "----------------------------\n",
      " \n",
      "String array: ['AI' 'Data' 'NumPyy'] <U6\n",
      "----------------------------\n",
      " \n",
      "Object array: [1 'Hello' 3.14] object\n",
      "----------------------------\n",
      " \n"
     ]
    }
   ],
   "source": [
    "# int\n",
    "arr1 = np.array(\n",
    "\n",
    "   [\n",
    "        [100, 200, 300],[400,500,600]\n",
    "        \n",
    "        ]\n",
    "\n",
    "   )\n",
    "print(arr1)\n",
    "print(\"\")\n",
    "print(arr1.dtype)  \n",
    "print(\"----------------------------\")\n",
    "\n",
    "# float\n",
    "arr2 = np.array([1.1, 2.2, 3.3])\n",
    "print(arr2)\n",
    "print(\"\")\n",
    "print(arr2.dtype)  \n",
    "print(\"----------------------------\")\n",
    "\n",
    "# bool\n",
    "arr3 = np.array([True, False, True, 1, 0])\n",
    "print(arr3)\n",
    "print(\"\")\n",
    "print(arr3.dtype)  \n",
    "print(\"----------------------------\")\n",
    "print(\" \")\n",
    "\n",
    "# Complex\n",
    "arr4 = np.array([2 + 3j, 4 + 5j])\n",
    "print(arr4)\n",
    "print(\"\")\n",
    "print(arr4.dtype)  \n",
    "print(\"----------------------------\")\n",
    "print(\" \")\n",
    "\n",
    "# String\n",
    "arr_str = np.array([\"AI\", \"Data\", \"NumPyy\"])\n",
    "print(\"String array:\", arr_str, arr_str.dtype)\n",
    "print(\"----------------------------\")\n",
    "print(\" \")\n",
    "\n",
    "# Object Type\n",
    "# if you want to store different data types in a single array, you can use dtype=object\n",
    "arr_obj = np.array([1, \"Hello\", 3.14], dtype=object)\n",
    "print(\"Object array:\", arr_obj, arr_obj.dtype)\n",
    "print(\"----------------------------\")\n",
    "print(\" \")\n",
    "\n"
   ]
  },
  {
   "cell_type": "markdown",
   "id": "55e42167",
   "metadata": {},
   "source": [
    "***Note: Use float32-bits as it takes less memory and is faster than float64-bits\n",
    "\\\n",
    "use Float32 when dealing with large datasets or when memory efficiency is a concern.***"
   ]
  },
  {
   "cell_type": "markdown",
   "id": "0a614380",
   "metadata": {},
   "source": [
    "<h1 align=\"center\" style=\"background-color:#001f3f;\n",
    "           color:white;\n",
    "           border-radius:8px;\n",
    "           font-family:'Times New Roman', Times, serif;\n",
    "           padding:20px;\n",
    "           display:inline-block;\">\n",
    "Pre-Defined Numpy Arrays\n",
    "</h1>"
   ]
  },
  {
   "cell_type": "markdown",
   "id": "316f0ba6",
   "metadata": {},
   "source": [
    "### **Constant Value Arrays**"
   ]
  },
  {
   "cell_type": "code",
   "execution_count": 11,
   "id": "dac03e91",
   "metadata": {},
   "outputs": [
    {
     "name": "stdout",
     "output_type": "stream",
     "text": [
      "[[0. 0. 0.]\n",
      " [0. 0. 0.]]\n",
      "By default it gives float64: float64\n",
      "Dimension: 2\n",
      "8\n",
      "-------------\n",
      "[[0 0 0]\n",
      " [0 0 0]]\n",
      "By default it gives float64: int64\n"
     ]
    }
   ],
   "source": [
    "zeros = np.zeros((2, 3)) \n",
    "print(zeros)\n",
    "print(f\"By default it gives float64: {zeros.dtype}\")\n",
    "print(f\"Dimension: {zeros.ndim}\")\n",
    "print(zeros.itemsize)\n",
    "print(\"-------------\")\n",
    "# if you want to change the datatype then you have to define explicitly the data type\n",
    "\n",
    "\n",
    "zeros = np.zeros((2, 3),dtype= np.int64) \n",
    "print(zeros)\n",
    "print(f\"By default it gives float64: {zeros.dtype}\")"
   ]
  },
  {
   "cell_type": "code",
   "execution_count": 12,
   "id": "5c362e2b",
   "metadata": {},
   "outputs": [
    {
     "name": "stdout",
     "output_type": "stream",
     "text": [
      "[[1. 1.]\n",
      " [1. 1.]\n",
      " [1. 1.]\n",
      " [1. 1.]\n",
      " [1. 1.]]\n",
      "Dimension: 2\n"
     ]
    }
   ],
   "source": [
    "# Creating output matrix 1\n",
    "ones = np.ones((5,2))    # Always row comes first then column\n",
    "print(ones)\n",
    "print(f\"Dimension: {ones.ndim}\")"
   ]
  },
  {
   "cell_type": "code",
   "execution_count": 13,
   "id": "79bf4587",
   "metadata": {},
   "outputs": [
    {
     "data": {
      "text/plain": [
       "array([[4, 4, 4, 4, 4],\n",
       "       [4, 4, 4, 4, 4],\n",
       "       [4, 4, 4, 4, 4],\n",
       "       [4, 4, 4, 4, 4],\n",
       "       [4, 4, 4, 4, 4]])"
      ]
     },
     "execution_count": 13,
     "metadata": {},
     "output_type": "execute_result"
    }
   ],
   "source": [
    "# creating full matrix\n",
    "\n",
    "np.full((5,5), 4)"
   ]
  },
  {
   "cell_type": "markdown",
   "id": "c6650ed1",
   "metadata": {},
   "source": [
    "### **Identity and Diagonal Arrays**"
   ]
  },
  {
   "cell_type": "code",
   "execution_count": 14,
   "id": "915721ce",
   "metadata": {},
   "outputs": [
    {
     "name": "stdout",
     "output_type": "stream",
     "text": [
      "[[1. 0. 0. 0.]\n",
      " [0. 1. 0. 0.]\n",
      " [0. 0. 1. 0.]\n",
      " [0. 0. 0. 1.]]\n",
      "Dimension: 2\n",
      "By default it gives float64: float64\n"
     ]
    }
   ],
   "source": [
    "identity = np.eye(4)\n",
    "print(identity)\n",
    "print(f\"Dimension: {identity.ndim}\")\n",
    "print(f\"By default it gives float64: {identity.dtype}\")\n",
    "\n",
    "# it is commonly used in linear algebra for solving linear equations\n"
   ]
  },
  {
   "cell_type": "code",
   "execution_count": 15,
   "id": "b8b2a50c",
   "metadata": {},
   "outputs": [
    {
     "data": {
      "text/plain": [
       "array([[1, 0, 0, 0],\n",
       "       [0, 2, 0, 0],\n",
       "       [0, 0, 3, 0],\n",
       "       [0, 0, 0, 4]])"
      ]
     },
     "execution_count": 15,
     "metadata": {},
     "output_type": "execute_result"
    }
   ],
   "source": [
    "np.diag([1,2,3,4])        # ------> now the diagonal is 1,2,3,4"
   ]
  },
  {
   "cell_type": "markdown",
   "id": "795f9735",
   "metadata": {},
   "source": [
    "### **Random Arrays**\n",
    "\n",
    "- **Uniform Distribution**: np.random.rand(m,n) → [0,1), flat distribution\\\n",
    "\n",
    "- **Normal Distribution**: np.random.randn(m,n) → bell curve, mean=0, std=1"
   ]
  },
  {
   "cell_type": "markdown",
   "id": "d740c5f9",
   "metadata": {},
   "source": [
    "- #### **Uniform Distribution**"
   ]
  },
  {
   "cell_type": "code",
   "execution_count": 16,
   "id": "9c570c88",
   "metadata": {},
   "outputs": [
    {
     "name": "stdout",
     "output_type": "stream",
     "text": [
      "[[0.56750292 0.57831992 0.76114311 0.80740698 0.77181717]\n",
      " [0.16267548 0.99381734 0.12925615 0.54097708 0.37098172]\n",
      " [0.80649746 0.67012528 0.30338269 0.9738256  0.78110172]\n",
      " [0.85744954 0.53123913 0.60962467 0.18267735 0.98163825]\n",
      " [0.32152071 0.96921784 0.99274356 0.46383081 0.70639301]]\n",
      "Dimension: 2\n"
     ]
    }
   ],
   "source": [
    "# If you want to create Random numbers you can use the following functions:\n",
    "\n",
    "random1 = np.random.rand(5,5)\n",
    "print(random1)                          # at each run it will give different output\n",
    "print(f\"Dimension: {random1.ndim}\")     \n",
    "\n",
    "# range is between 0 to 1"
   ]
  },
  {
   "cell_type": "markdown",
   "id": "10949440",
   "metadata": {},
   "source": [
    "<p align=\"\">\n",
    "  <img src=\"img/UD.jpg\" alt=\"screenshot\" width=\"400\">\n",
    "</p>"
   ]
  },
  {
   "cell_type": "code",
   "execution_count": 17,
   "id": "639872a3",
   "metadata": {},
   "outputs": [
    {
     "name": "stdout",
     "output_type": "stream",
     "text": [
      "[[0.20128438 0.94134028 0.90706328 0.81664329 0.821996  ]\n",
      " [0.51231532 0.8806526  0.20693152 0.67333699 0.98802745]\n",
      " [0.99559309 0.71894433 0.78765577 0.61776314 0.12729836]\n",
      " [0.78145376 0.51264638 0.1098976  0.06076152 0.54242849]\n",
      " [0.9819766  0.67380192 0.33375069 0.47968631 0.74026582]]\n"
     ]
    }
   ],
   "source": [
    "# if we want fix random values at re-run then\n",
    "\n",
    "random2 = np.random.rand(5,5)\n",
    "np.random.seed(42)\n",
    "print(random2)              # now re-run it 100 times no change in values"
   ]
  },
  {
   "cell_type": "markdown",
   "id": "12ab649f",
   "metadata": {},
   "source": [
    "#### **other functions of Uniform distribution**\n",
    "*np.random.random(),\\\n",
    " np.random.uniform()*"
   ]
  },
  {
   "cell_type": "code",
   "execution_count": 18,
   "id": "6ede1eb4",
   "metadata": {},
   "outputs": [
    {
     "name": "stdout",
     "output_type": "stream",
     "text": [
      "[[0.37454012 0.95071431 0.73199394]\n",
      " [0.59865848 0.15601864 0.15599452]]\n"
     ]
    }
   ],
   "source": [
    "random3 = np.random.random((2, 3))\n",
    "print(random3)               # ----> generate random floats between 0 and 1\n"
   ]
  },
  {
   "cell_type": "code",
   "execution_count": 19,
   "id": "c06940a4",
   "metadata": {},
   "outputs": [
    {
     "name": "stdout",
     "output_type": "stream",
     "text": [
      "[[1.23233445 4.46470458 3.40446005]\n",
      " [3.83229031 1.08233798 4.87963941]]\n"
     ]
    }
   ],
   "source": [
    "random4 = np.random.uniform(1, 5, size=(2,3))\n",
    "print(random4)               # -----> control the range of uniform distribution, unlike random() which is fixed to [0,1).\n"
   ]
  },
  {
   "cell_type": "markdown",
   "id": "df08f4d4",
   "metadata": {},
   "source": [
    "- #### **Normal Distribution**"
   ]
  },
  {
   "cell_type": "code",
   "execution_count": 20,
   "id": "de5172a1",
   "metadata": {},
   "outputs": [
    {
     "name": "stdout",
     "output_type": "stream",
     "text": [
      "[[ 0.49671415 -0.1382643   0.64768854  1.52302986 -0.23415337]\n",
      " [-0.23413696  1.57921282  0.76743473 -0.46947439  0.54256004]\n",
      " [-0.46341769 -0.46572975  0.24196227 -1.91328024 -1.72491783]\n",
      " [-0.56228753 -1.01283112  0.31424733 -0.90802408 -1.4123037 ]\n",
      " [ 1.46564877 -0.2257763   0.0675282  -1.42474819 -0.54438272]]\n"
     ]
    }
   ],
   "source": [
    "# If you want to create random values in neg and pos \n",
    "\n",
    "np.random.seed(42)  \n",
    "arr6 = np.random.randn(5,5)\n",
    "print(arr6)"
   ]
  },
  {
   "cell_type": "markdown",
   "id": "9b29293f",
   "metadata": {},
   "source": [
    "<img src=\"img/ND.jpg\" alt=\"Uniform Distribution\" width=\"400\">"
   ]
  },
  {
   "cell_type": "markdown",
   "id": "6e2e2126",
   "metadata": {},
   "source": [
    "#### **NOTE**\n",
    "\n",
    "These two concepts you will learn in depth in the topic `Data Preprocessing`, but here I am giving you a touch so you understand the difference and why they matter in cleaning.\n",
    "\n",
    "***Uniform Distribution (`np.random.rand()`)***\\\n",
    "(means all values in the range are equally likely)\n",
    "- It is almost cleaned no need to do much pre-processing\n",
    "- Values are bounded between 0 and 1\n",
    "\n",
    "***Normal Distribution (`np.random.randn`), [other names: Bell curved, Guassian distribution]***\n",
    "- Need much time in cleaning\n",
    "- outliers can me much"
   ]
  },
  {
   "cell_type": "markdown",
   "id": "332d8a33",
   "metadata": {},
   "source": [
    "#### **other functions of Guassian distribution**\n",
    "*np.random.normal(mean, std, size)*"
   ]
  },
  {
   "cell_type": "code",
   "execution_count": 21,
   "id": "6bc6dba8",
   "metadata": {},
   "outputs": [
    {
     "name": "stdout",
     "output_type": "stream",
     "text": [
      "[[51.1092259  38.49006423 53.75698018]\n",
      " [43.9936131  47.0830625  43.98293388]]\n"
     ]
    }
   ],
   "source": [
    "arr7 = np.random.normal(50, 10, size=(2,3))\n",
    "print(arr7)"
   ]
  },
  {
   "cell_type": "code",
   "execution_count": 22,
   "id": "084d6e93",
   "metadata": {},
   "outputs": [
    {
     "name": "stdout",
     "output_type": "stream",
     "text": [
      "[3 1 3 3 2] 1\n"
     ]
    }
   ],
   "source": [
    "# if we want to create a range b/w 1 to 4 with 5 values \n",
    "\n",
    "abc = np.random.randint(1,4,5)\n",
    "print(abc, abc.ndim)"
   ]
  },
  {
   "cell_type": "markdown",
   "id": "843b8b08",
   "metadata": {},
   "source": [
    "### **Range-Based Arrays**"
   ]
  },
  {
   "cell_type": "code",
   "execution_count": 23,
   "id": "342eaf40",
   "metadata": {},
   "outputs": [
    {
     "name": "stdout",
     "output_type": "stream",
     "text": [
      "[0 1 2 3 4 5]\n",
      "Dimension: 1\n",
      "-----------------\n",
      "[[0 1 2]\n",
      " [3 4 5]]\n",
      "Dimension: 2\n"
     ]
    }
   ],
   "source": [
    "# If you want to create a range array\n",
    "\n",
    "range = np.arange(0,5+1)\n",
    "print(range)\n",
    "print(f\"Dimension: {range.ndim}\")\n",
    "print(\"-----------------\")\n",
    "\n",
    "# np.arange only creates a flat 1D array. but you can reshape it into multi-dimensional array\n",
    "reshaped = range.reshape(2,3)\n",
    "print(reshaped)\n",
    "print(f\"Dimension: {reshaped.ndim}\")\n"
   ]
  },
  {
   "cell_type": "code",
   "execution_count": 24,
   "id": "4b3963e3",
   "metadata": {},
   "outputs": [
    {
     "name": "stdout",
     "output_type": "stream",
     "text": [
      "[0 2 4 6 8]\n"
     ]
    }
   ],
   "source": [
    "# np.arange(start, stop, step)\n",
    "\n",
    "rangee = np.arange(0, 10, 2)  \n",
    "print(rangee)           # ----> it starts from 0, goes up to but not including 10, with step 2.\n"
   ]
  },
  {
   "cell_type": "code",
   "execution_count": 25,
   "id": "09efb577",
   "metadata": {},
   "outputs": [
    {
     "name": "stdout",
     "output_type": "stream",
     "text": [
      "[ 0.   2.5  5.   7.5 10. ]\n"
     ]
    }
   ],
   "source": [
    "# np.linspace(start, stop, num)\n",
    "\n",
    "arr = np.linspace(0, 10, 5)\n",
    "print(arr)\n"
   ]
  },
  {
   "cell_type": "markdown",
   "id": "6d6f3bd8",
   "metadata": {},
   "source": [
    "***Question for you:\\\n",
    "If I say “I want exactly 101 values between 0 and 1 for plotting a smooth curve”,\n",
    "which function will you choose: arange or linspace?***"
   ]
  },
  {
   "cell_type": "code",
   "execution_count": 26,
   "id": "8bbba1cc",
   "metadata": {},
   "outputs": [],
   "source": [
    "# comment your answwer\n"
   ]
  },
  {
   "cell_type": "markdown",
   "id": "8560ba09",
   "metadata": {},
   "source": [
    "### **Empty Arrays**"
   ]
  },
  {
   "cell_type": "code",
   "execution_count": 27,
   "id": "3d3d9356",
   "metadata": {},
   "outputs": [
    {
     "name": "stdout",
     "output_type": "stream",
     "text": [
      "[[0. 0. 0. 0. 0.]\n",
      " [0. 0. 0. 0. 0.]\n",
      " [0. 0. 0. 0. 0.]\n",
      " [0. 0. 0. 0. 0.]]\n",
      "Dimension: 2\n",
      "float64\n"
     ]
    }
   ],
   "source": [
    "emp = np.empty((4,5))\n",
    "\n",
    "print(emp)\n",
    "print(f\"Dimension: {emp.ndim}\")\n",
    "print(emp.dtype)\n",
    "# this will give you random values"
   ]
  },
  {
   "cell_type": "code",
   "execution_count": 28,
   "id": "b8756bcf",
   "metadata": {},
   "outputs": [
    {
     "name": "stdout",
     "output_type": "stream",
     "text": [
      "Original:\n",
      " [[ 10   2   3   4]\n",
      " [ 50  68   7   8]\n",
      " [ 90 108  11  12]]\n",
      "\n",
      "Empty Like:\n",
      " [[  490468639  1078562299  1823429482  1078148794]\n",
      " [-1174022826  1078649060 -1227985241  1078329134]\n",
      " [ -893062260  1078430369  -956469154  1078328784]]\n"
     ]
    }
   ],
   "source": [
    "arr7 = np.array([[10,2,3,4],[50,68,7,8],[90,108,11,12]])\n",
    "empt = np.empty_like(arr7)\n",
    "\n",
    "print(\"Original:\\n\", arr7)\n",
    "\n",
    "print(\"\")\n",
    "\n",
    "print(\"Empty Like:\\n\", empt)\n"
   ]
  },
  {
   "cell_type": "markdown",
   "id": "3319039c",
   "metadata": {},
   "source": [
    "***What is the difference between `np.empty` and `np.empty_like`?***\n",
    "<br>\n",
    "\n",
    "`np.empty` creates a `new array` with a specified shape and data type but does not initialize its values, so it contains random memory garbage.\n",
    "<br>\n",
    "\n",
    "`np.empty_like` creates a new uninitialized array with the same shape and dtype as an existing array.\n",
    "<br>\n",
    "\n",
    "Both are faster than zeros or ones because they skip initialization, but you must be careful to overwrite the values before use."
   ]
  },
  {
   "cell_type": "markdown",
   "id": "39c6c831",
   "metadata": {},
   "source": [
    "<h1 align=\"center\" style=\"background-color:#001f3f;\n",
    "           color:white;\n",
    "           border-radius:8px;\n",
    "           font-family:'Times New Roman', Times, serif;\n",
    "           padding:20px;\n",
    "           display:inline-block;\">\n",
    "Indexing & Slicing\n",
    "</h1>\n"
   ]
  },
  {
   "cell_type": "code",
   "execution_count": 29,
   "id": "7ea63820",
   "metadata": {},
   "outputs": [],
   "source": [
    "import numpy as np"
   ]
  },
  {
   "cell_type": "code",
   "execution_count": 30,
   "id": "845faa8f",
   "metadata": {},
   "outputs": [
    {
     "name": "stdout",
     "output_type": "stream",
     "text": [
      "[[  50   60   70]\n",
      " [  90  110  400]\n",
      " [ 600 1000  200]]\n"
     ]
    }
   ],
   "source": [
    "# let creates an array and play with it\n",
    "\n",
    "arr5 = np.array(\n",
    "\n",
    "    [\n",
    "        [50,60,70],\n",
    "        [90,110,400],\n",
    "        [600,1000,200]\n",
    "    ]\n",
    "\n",
    ")\n",
    "print(arr5)"
   ]
  },
  {
   "cell_type": "code",
   "execution_count": 31,
   "id": "b4ee06b7",
   "metadata": {},
   "outputs": [
    {
     "data": {
      "text/plain": [
       "array([[ 60,  70],\n",
       "       [110, 400]])"
      ]
     },
     "execution_count": 31,
     "metadata": {},
     "output_type": "execute_result"
    }
   ],
   "source": [
    "arr5[0:2, 1:3]"
   ]
  },
  {
   "cell_type": "code",
   "execution_count": 32,
   "id": "024c428e",
   "metadata": {},
   "outputs": [
    {
     "name": "stdout",
     "output_type": "stream",
     "text": [
      "Element found: 110\n"
     ]
    }
   ],
   "source": [
    "# if we want to access 110, how we do it?\n",
    "print(f\"Element found: {arr5[1,1]}\")         #----> indexing starts at 0, (row 1, col 1)"
   ]
  },
  {
   "cell_type": "code",
   "execution_count": 33,
   "id": "698697e0",
   "metadata": {},
   "outputs": [
    {
     "name": "stdout",
     "output_type": "stream",
     "text": [
      "Element found: [  60  110 1000]\n"
     ]
    }
   ],
   "source": [
    "print(f\"Element found: {arr5[:,1]}\")         #----> this will print the entire column 1"
   ]
  },
  {
   "cell_type": "code",
   "execution_count": 34,
   "id": "4df13c5f",
   "metadata": {},
   "outputs": [
    {
     "name": "stdout",
     "output_type": "stream",
     "text": [
      "Element found: [ 90 110 400]\n"
     ]
    }
   ],
   "source": [
    "print(f\"Element found: {arr5[1,:]}\")         #----> this will print entire row 1"
   ]
  },
  {
   "cell_type": "code",
   "execution_count": 35,
   "id": "21e11a96",
   "metadata": {},
   "outputs": [],
   "source": [
    "# [[  50   60   70]       -----  row 0\n",
    "#  [  90  110  400]       -----  row 1\n",
    "#  [ 600 1000  200]]      -----  row 2"
   ]
  },
  {
   "cell_type": "code",
   "execution_count": 36,
   "id": "f70fc10a",
   "metadata": {},
   "outputs": [
    {
     "name": "stdout",
     "output_type": "stream",
     "text": [
      "Element found:\n",
      " [[ 60  70]\n",
      " [110 400]]\n"
     ]
    }
   ],
   "source": [
    "# slicing sub-matrix\n",
    "                                               #----> Rows 0:2 → take row 0 and row 1 (stop before 2).\n",
    "print(f\"Element found:\\n {arr5[0:2, 1:3]}\") \n",
    "                                               #----> Columns 1:3 → take column 1 and column 2 (stop before 3).\n"
   ]
  },
  {
   "cell_type": "code",
   "execution_count": 37,
   "id": "f6f67e9e",
   "metadata": {},
   "outputs": [
    {
     "name": "stdout",
     "output_type": "stream",
     "text": [
      "Element found:\n",
      " [[ 600 1000  200]\n",
      " [  90  110  400]\n",
      " [  50   60   70]]\n"
     ]
    }
   ],
   "source": [
    "print(f\"Element found:\\n {arr5[::-1] }\")     # ----> this will reverse first row at index 0 and last row at index 2\n",
    "\n",
    "# this will not modify the array"
   ]
  },
  {
   "cell_type": "code",
   "execution_count": 38,
   "id": "02bf9b11",
   "metadata": {},
   "outputs": [
    {
     "data": {
      "text/plain": [
       "array([[  50,   60,   70],\n",
       "       [  90,  110,  400],\n",
       "       [ 600, 1000,  200]])"
      ]
     },
     "execution_count": 38,
     "metadata": {},
     "output_type": "execute_result"
    }
   ],
   "source": [
    "arr5"
   ]
  },
  {
   "cell_type": "code",
   "execution_count": 39,
   "id": "d301f913",
   "metadata": {},
   "outputs": [
    {
     "name": "stdout",
     "output_type": "stream",
     "text": [
      "Element found:\n",
      " [[  70   60   50]\n",
      " [ 400  110   90]\n",
      " [ 200 1000  600]]\n"
     ]
    }
   ],
   "source": [
    "print(f\"Element found:\\n {arr5[:, ::-1]}\")     # ----> this will reverse first column of index 0 and last column of index 2"
   ]
  },
  {
   "cell_type": "code",
   "execution_count": 40,
   "id": "88565b6f",
   "metadata": {},
   "outputs": [
    {
     "name": "stdout",
     "output_type": "stream",
     "text": [
      "[  60   70   90  110  400  600 1000  200]\n",
      "2\n"
     ]
    }
   ],
   "source": [
    "# Boolean Indexing\n",
    "print(arr5[arr5 > 50])                          #----> elements greater than 50\n",
    "print(arr5.ndim)"
   ]
  },
  {
   "cell_type": "code",
   "execution_count": 41,
   "id": "fd5cebe8",
   "metadata": {},
   "outputs": [
    {
     "name": "stdout",
     "output_type": "stream",
     "text": [
      "[[  50   60   70]\n",
      " [  90  110  400]\n",
      " [ 600 1000  200]]\n"
     ]
    }
   ],
   "source": [
    "print(arr5)"
   ]
  },
  {
   "cell_type": "code",
   "execution_count": 42,
   "id": "7950a7b1",
   "metadata": {},
   "outputs": [
    {
     "name": "stdout",
     "output_type": "stream",
     "text": [
      "Selected elements: [ 60 200]\n"
     ]
    }
   ],
   "source": [
    "# Fancy Indexing\n",
    "\n",
    "print(\"Selected elements:\", arr5[[0,2],[1,2]])     # ---> exracting Elements: (0,1) → row 0, col 1 → 60\n",
    "\n",
    "                                                                            # (2,2) → row 2, col 2 → 200"
   ]
  },
  {
   "cell_type": "markdown",
   "id": "f56de934",
   "metadata": {},
   "source": [
    "**Key Difference from Slicing**\n",
    "\\\n",
    "\\\n",
    "*`Slicing (a[0:2, 1:3])` → extracts a block (subarray), works for `continuous ranges`*\n",
    "\\\n",
    "\\\n",
    "*`Fancy indexing (a[[0,2],[1,2]])` → extracts specific elements from specific positions, works for `non-contiguous`*"
   ]
  },
  {
   "cell_type": "markdown",
   "id": "c0998756",
   "metadata": {},
   "source": [
    "<!-- <div align=\"center\"> -->\n",
    "  <h1 style=\"background-color:#001f3f;\n",
    "             color:white;\n",
    "             border-radius:8px;\n",
    "             font-family:'Times New Roman', Times, serif;\n",
    "             padding:20px;\n",
    "             display:inline-block;\">\n",
    "    Done with basics:)\n",
    "  </h1>\n",
    "<!-- </div> -->\n"
   ]
  }
 ],
 "metadata": {
  "kernelspec": {
   "display_name": "Python 3",
   "language": "python",
   "name": "python3"
  },
  "language_info": {
   "codemirror_mode": {
    "name": "ipython",
    "version": 3
   },
   "file_extension": ".py",
   "mimetype": "text/x-python",
   "name": "python",
   "nbconvert_exporter": "python",
   "pygments_lexer": "ipython3",
   "version": "3.12.0"
  }
 },
 "nbformat": 4,
 "nbformat_minor": 5
}
